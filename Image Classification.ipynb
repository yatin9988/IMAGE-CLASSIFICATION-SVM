{
 "cells": [
  {
   "cell_type": "code",
   "execution_count": 139,
   "metadata": {},
   "outputs": [],
   "source": [
    "import numpy as np\n",
    "import matplotlib.pyplot as plt\n",
    "import os"
   ]
  },
  {
   "cell_type": "code",
   "execution_count": 140,
   "metadata": {},
   "outputs": [],
   "source": [
    "from keras.preprocessing import image"
   ]
  },
  {
   "cell_type": "code",
   "execution_count": 141,
   "metadata": {},
   "outputs": [],
   "source": [
    "dataset = os.listdir('./images/')"
   ]
  },
  {
   "cell_type": "code",
   "execution_count": 142,
   "metadata": {},
   "outputs": [
    {
     "name": "stdout",
     "output_type": "stream",
     "text": [
      "{'dogs': 0, 'horses': 1, 'humans': 2, 'cats': 3}\n"
     ]
    }
   ],
   "source": [
    "label = 0\n",
    "mapping = {}\n",
    "for i in dataset:\n",
    "    mapping[i] = label\n",
    "    label += 1\n",
    "print(mapping)    "
   ]
  },
  {
   "cell_type": "code",
   "execution_count": 143,
   "metadata": {},
   "outputs": [],
   "source": [
    "images_data = []\n",
    "labels = []"
   ]
  },
  {
   "cell_type": "code",
   "execution_count": 144,
   "metadata": {},
   "outputs": [],
   "source": [
    "for images in dataset:\n",
    "    curr_path = os.listdir('./images/'+str(images))\n",
    "    \n",
    "    for i in curr_path:\n",
    "        img = image.load_img('./images/'+str(images)+'/'+i,target_size=(50,50))\n",
    "        images_data.append(image.img_to_array(img))\n",
    "        labels.append(mapping[images])"
   ]
  },
  {
   "cell_type": "code",
   "execution_count": 145,
   "metadata": {},
   "outputs": [],
   "source": [
    "images_data = np.array(images_data,dtype='float32')/255\n",
    "labels = np.array(labels)"
   ]
  },
  {
   "cell_type": "code",
   "execution_count": 146,
   "metadata": {},
   "outputs": [
    {
     "name": "stdout",
     "output_type": "stream",
     "text": [
      "(808, 50, 50, 3)\n",
      "(808,)\n"
     ]
    }
   ],
   "source": [
    "print(images_data.shape)\n",
    "print(labels.shape)"
   ]
  },
  {
   "cell_type": "code",
   "execution_count": 147,
   "metadata": {},
   "outputs": [],
   "source": [
    "zipped = list(zip(images_data,labels))"
   ]
  },
  {
   "cell_type": "code",
   "execution_count": 148,
   "metadata": {},
   "outputs": [],
   "source": [
    "np.random.shuffle(zipped)"
   ]
  },
  {
   "cell_type": "code",
   "execution_count": 149,
   "metadata": {},
   "outputs": [],
   "source": [
    "images_data,labels = zip(*zipped)\n",
    "images_data = np.array(images_data)\n",
    "labels = np.array(labels)"
   ]
  },
  {
   "cell_type": "code",
   "execution_count": 150,
   "metadata": {},
   "outputs": [
    {
     "name": "stdout",
     "output_type": "stream",
     "text": [
      "(808, 50, 50, 3)\n",
      "(808,)\n"
     ]
    }
   ],
   "source": [
    "print(images_data.shape)\n",
    "print(labels.shape)"
   ]
  },
  {
   "cell_type": "code",
   "execution_count": 151,
   "metadata": {},
   "outputs": [
    {
     "data": {
      "image/png": "[encoded data removed]",
      "text/plain": [
       "<Figure size 432x288 with 1 Axes>"
      ]
     },
     "metadata": {
      "needs_background": "light"
     },
     "output_type": "display_data"
    },
    {
     "name": "stdout",
     "output_type": "stream",
     "text": [
      "3\n"
     ]
    }
   ],
   "source": [
    "plt.imshow(images_data[673])\n",
    "plt.axis(\"off\")\n",
    "plt.show()\n",
    "print(labels[673])"
   ]
  },
  {
   "cell_type": "code",
   "execution_count": 152,
   "metadata": {},
   "outputs": [
    {
     "data": {
      "image/png": "[encoded data removed]",
      "text/plain": [
       "<Figure size 432x288 with 1 Axes>"
      ]
     },
     "metadata": {
      "needs_background": "light"
     },
     "output_type": "display_data"
    },
    {
     "name": "stdout",
     "output_type": "stream",
     "text": [
      "1\n"
     ]
    }
   ],
   "source": [
    "plt.imshow(images_data[23])\n",
    "plt.axis(\"off\")\n",
    "plt.show()\n",
    "print(labels[23])"
   ]
  },
  {
   "cell_type": "code",
   "execution_count": 153,
   "metadata": {},
   "outputs": [],
   "source": [
    "class SVM:\n",
    "    \n",
    "    def __init__(self,c=1):\n",
    "        self.c = c\n",
    "        self.w = 0\n",
    "        self.b = 0\n",
    "        \n",
    "    def hingeLoss(self,X,Y,w,b):\n",
    "        \n",
    "        loss = 0.0\n",
    "        loss += 0.5*np.dot(w,w.T)\n",
    "        c = self.c\n",
    "        \n",
    "        for i in range(X.shape[0]):\n",
    "            ti = Y[i]*(np.dot(w,X[i])+b)\n",
    "            loss += c*max(0,1-ti)\n",
    "            \n",
    "        return loss\n",
    "\n",
    "    def fit(self,X,Y,batch_size=32,learning_rate=0.01,max_iteration=200):\n",
    "        \n",
    "        no_of_examples = X.shape[0]\n",
    "        no_of_features = X.shape[1]\n",
    "        \n",
    "        losses = []\n",
    "        w = np.zeros((1,no_of_features))\n",
    "        b = 0\n",
    "        c = self.c\n",
    "        \n",
    "        for itr in range(max_iteration):\n",
    "            \n",
    "            loss = self.hingeLoss(X,Y,w,b)\n",
    "            losses.append(loss)\n",
    "            idx = np.arange(0,no_of_examples)\n",
    "            np.random.shuffle(idx)\n",
    "            \n",
    "            for mini_batch in range(0,no_of_examples,batch_size):\n",
    "                \n",
    "                gradew = 0\n",
    "                gradeb = 0\n",
    "                \n",
    "                for j in range(mini_batch,mini_batch+batch_size):\n",
    "                    \n",
    "                    if j<no_of_examples:\n",
    "                        \n",
    "                        i = idx[j]\n",
    "                        ti = Y[i]*(np.dot(w,X[i])+b)\n",
    "                        \n",
    "                        if ti>1:\n",
    "                            gradew += 0\n",
    "                            gradeb += 0\n",
    "                            \n",
    "                        else:\n",
    "                            gradew += c*X[i]*Y[i]\n",
    "                            gradeb += c*Y[i]\n",
    "                \n",
    "                w = w - learning_rate*w + learning_rate*gradew\n",
    "                b = b + learning_rate*gradeb\n",
    "        \n",
    "        self.b = b\n",
    "        self.w = w\n",
    "        \n",
    "        return losses"
   ]
  },
  {
   "cell_type": "code",
   "execution_count": 154,
   "metadata": {},
   "outputs": [],
   "source": [
    "classes = len(np.unique(labels))"
   ]
  },
  {
   "cell_type": "code",
   "execution_count": 155,
   "metadata": {},
   "outputs": [],
   "source": [
    "def classWiseData(x,y):\n",
    "    \n",
    "    data = {}\n",
    "    \n",
    "    ## initialise empty lists for the class labels\n",
    "    for i in range(classes):\n",
    "        data[i] = []\n",
    "    ## add the different images to the list corresponding to their label     \n",
    "    for i in range(x.shape[0]):\n",
    "        data[y[i]].append(x[i])\n",
    "    ## converts those lists to numpy arrays\n",
    "    for i in data.keys():\n",
    "        data[i] = np.array(data[i],dtype='float32')\n",
    "    \n",
    "    return data"
   ]
  },
  {
   "cell_type": "code",
   "execution_count": 156,
   "metadata": {},
   "outputs": [],
   "source": [
    "images_data = images_data.reshape((images_data.shape[0],-1))"
   ]
  },
  {
   "cell_type": "code",
   "execution_count": 157,
   "metadata": {},
   "outputs": [
    {
     "name": "stdout",
     "output_type": "stream",
     "text": [
      "(808, 7500)\n"
     ]
    }
   ],
   "source": [
    "print(images_data.shape)"
   ]
  },
  {
   "cell_type": "code",
   "execution_count": 158,
   "metadata": {},
   "outputs": [],
   "source": [
    "data = classWiseData(images_data,labels)"
   ]
  },
  {
   "cell_type": "code",
   "execution_count": 159,
   "metadata": {},
   "outputs": [
    {
     "data": {
      "text/plain": [
       "dict_keys([0, 1, 2, 3])"
      ]
     },
     "execution_count": 159,
     "metadata": {},
     "output_type": "execute_result"
    }
   ],
   "source": [
    "data.keys()"
   ]
  },
  {
   "cell_type": "code",
   "execution_count": 160,
   "metadata": {},
   "outputs": [
    {
     "name": "stdout",
     "output_type": "stream",
     "text": [
      "(202, 7500)\n",
      "(202, 7500)\n",
      "(202, 7500)\n",
      "(202, 7500)\n"
     ]
    }
   ],
   "source": [
    "print(data[0].shape)\n",
    "print(data[1].shape)\n",
    "print(data[2].shape)\n",
    "print(data[3].shape)"
   ]
  },
  {
   "cell_type": "code",
   "execution_count": 161,
   "metadata": {},
   "outputs": [],
   "source": [
    "def getDataPairforSVM(d1,d2):\n",
    "    \n",
    "    l1 = d1.shape[0]\n",
    "    l2 = d2.shape[0]\n",
    "    samples = l1+l2\n",
    "    features = d1.shape[1]\n",
    "    \n",
    "    data_pair = np.zeros((samples,features))\n",
    "    data_labels = np.zeros((samples))\n",
    "    \n",
    "    data_pair[:l1,:] = d1\n",
    "    data_pair[l1:,:] = d2\n",
    "    \n",
    "    data_labels[:l1] = -1\n",
    "    data_labels[l1:] = +1\n",
    "    \n",
    "    m = list(zip(data_pair,data_labels))\n",
    "    np.random.shuffle(m)\n",
    "    data_pair,data_labels = zip(*m)\n",
    "    data_pair = np.array(data_pair)\n",
    "    data_labels = np.array(data_labels)\n",
    "    \n",
    "    return data_pair,data_labels"
   ]
  },
  {
   "cell_type": "code",
   "execution_count": 162,
   "metadata": {},
   "outputs": [],
   "source": [
    "svm = SVM()\n",
    "p,l = getDataPairforSVM(data[0],data[1])"
   ]
  },
  {
   "cell_type": "code",
   "execution_count": 163,
   "metadata": {},
   "outputs": [],
   "source": [
    "def trainSVM():\n",
    "    \n",
    "    svm_classifiers = {}\n",
    "    for i in range(classes):\n",
    "        svm_classifiers[i] = {}\n",
    "        for j in range(i+1,classes):\n",
    "            x_pair,y_pair = getDataPairforSVM(data[i],data[j])\n",
    "            loss = svm.fit(x_pair,y_pair)\n",
    "            weights = svm.w\n",
    "            biases = svm.b\n",
    "            svm_classifiers[i][j] = weights,biases\n",
    "    return svm_classifiers        "
   ]
  },
  {
   "cell_type": "code",
   "execution_count": 164,
   "metadata": {},
   "outputs": [],
   "source": [
    "classifiers = trainSVM()"
   ]
  },
  {
   "cell_type": "code",
   "execution_count": 165,
   "metadata": {},
   "outputs": [
    {
     "data": {
      "text/plain": [
       "{0: {1: (array([[-0.03783768,  0.11202769,  0.3258552 , ...,  0.21751123,\n",
       "            0.16127927, -0.34594632]]), -18.900000000000027),\n",
       "  2: (array([[0.32419127, 0.3581449 , 0.42055838, ..., 0.35568939, 0.4244709 ,\n",
       "           0.26341084]]), -8.380000000000006),\n",
       "  3: (array([[ 0.05828219, -0.17827913, -0.07861814, ...,  0.30265728,\n",
       "            0.11976992,  0.24903329]]), 1.3500000000000014)},\n",
       " 1: {2: (array([[0.33054162, 0.20035751, 0.10243631, ..., 0.25006281, 0.34220487,\n",
       "           0.70728899]]), 12.609999999999971),\n",
       "  3: (array([[ 0.10231209, -0.24706359, -0.34107519, ..., -0.01986755,\n",
       "           -0.14704014,  0.4288135 ]]), 21.340000000000018)},\n",
       " 2: {3: (array([[-0.33462141, -0.5688187 , -0.53943971, ..., -0.31203694,\n",
       "           -0.48536944, -0.22027832]]), 10.800000000000004)},\n",
       " 3: {}}"
      ]
     },
     "execution_count": 165,
     "metadata": {},
     "output_type": "execute_result"
    }
   ],
   "source": [
    "classifiers"
   ]
  },
  {
   "cell_type": "code",
   "execution_count": null,
   "metadata": {},
   "outputs": [],
   "source": [
    "def predi"
   ]
  },
  {
   "cell_type": "code",
   "execution_count": null,
   "metadata": {},
   "outputs": [],
   "source": []
  }
 ],
 "metadata": {
  "kernelspec": {
   "display_name": "Python 3",
   "language": "python",
   "name": "python3"
  },
  "language_info": {
   "codemirror_mode": {
    "name": "ipython",
    "version": 3
   },
   "file_extension": ".py",
   "mimetype": "text/x-python",
   "name": "python",
   "nbconvert_exporter": "python",
   "pygments_lexer": "ipython3",
   "version": "3.7.1"
  }
 },
 "nbformat": 4,
 "nbformat_minor": 2
}
