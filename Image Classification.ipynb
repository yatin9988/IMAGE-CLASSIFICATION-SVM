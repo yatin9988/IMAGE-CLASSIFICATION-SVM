{
 "cells": [
  {
   "cell_type": "code",
   "execution_count": 83,
   "metadata": {},
   "outputs": [],
   "source": [
    "import numpy as np\n",
    "import matplotlib.pyplot as plt\n",
    "import os"
   ]
  },
  {
   "cell_type": "code",
   "execution_count": 84,
   "metadata": {},
   "outputs": [],
   "source": [
    "from keras.preprocessing import image"
   ]
  },
  {
   "cell_type": "code",
   "execution_count": 85,
   "metadata": {},
   "outputs": [],
   "source": [
    "dataset = os.listdir('./images/')"
   ]
  },
  {
   "cell_type": "code",
   "execution_count": 86,
   "metadata": {},
   "outputs": [
    {
     "name": "stdout",
     "output_type": "stream",
     "text": [
      "{'dogs': 0, 'horses': 1, 'humans': 2, 'cats': 3}\n"
     ]
    }
   ],
   "source": [
    "label = 0\n",
    "mapping = {}\n",
    "for i in dataset:\n",
    "    mapping[i] = label\n",
    "    label += 1\n",
    "print(mapping)    "
   ]
  },
  {
   "cell_type": "code",
   "execution_count": 87,
   "metadata": {},
   "outputs": [],
   "source": [
    "images_data = []\n",
    "labels = []"
   ]
  },
  {
   "cell_type": "code",
   "execution_count": 88,
   "metadata": {},
   "outputs": [],
   "source": [
    "for images in dataset:\n",
    "    curr_path = os.listdir('./images/'+str(images))\n",
    "    \n",
    "    for i in curr_path:\n",
    "        img = image.load_img('./images/'+str(images)+'/'+i,target_size=(50,50))\n",
    "        images_data.append(image.img_to_array(img))\n",
    "        labels.append(mapping[images])"
   ]
  },
  {
   "cell_type": "code",
   "execution_count": 89,
   "metadata": {},
   "outputs": [],
   "source": [
    "images_data = np.array(images_data,dtype='float32')/255\n",
    "labels = np.array(labels)"
   ]
  },
  {
   "cell_type": "code",
   "execution_count": 90,
   "metadata": {},
   "outputs": [
    {
     "name": "stdout",
     "output_type": "stream",
     "text": [
      "(808, 50, 50, 3)\n",
      "(808,)\n"
     ]
    }
   ],
   "source": [
    "print(images_data.shape)\n",
    "print(labels.shape)"
   ]
  },
  {
   "cell_type": "code",
   "execution_count": 91,
   "metadata": {},
   "outputs": [],
   "source": [
    "zipped = list(zip(images_data,labels))"
   ]
  },
  {
   "cell_type": "code",
   "execution_count": 92,
   "metadata": {},
   "outputs": [],
   "source": [
    "np.random.shuffle(zipped)"
   ]
  },
  {
   "cell_type": "code",
   "execution_count": 93,
   "metadata": {},
   "outputs": [],
   "source": [
    "images_data,labels = zip(*zipped)\n",
    "images_data = np.array(images_data)\n",
    "labels = np.array(labels)"
   ]
  },
  {
   "cell_type": "code",
   "execution_count": 94,
   "metadata": {},
   "outputs": [
    {
     "name": "stdout",
     "output_type": "stream",
     "text": [
      "(808, 50, 50, 3)\n",
      "(808,)\n"
     ]
    }
   ],
   "source": [
    "print(images_data.shape)\n",
    "print(labels.shape)"
   ]
  },
  {
   "cell_type": "code",
   "execution_count": 95,
   "metadata": {},
   "outputs": [
    {
     "data": {
      "image/png": "[encoded data removed]",
      "text/plain": [
       "<Figure size 432x288 with 1 Axes>"
      ]
     },
     "metadata": {
      "needs_background": "light"
     },
     "output_type": "display_data"
    },
    {
     "name": "stdout",
     "output_type": "stream",
     "text": [
      "3\n"
     ]
    }
   ],
   "source": [
    "plt.imshow(images_data[673])\n",
    "plt.axis(\"off\")\n",
    "plt.show()\n",
    "print(labels[673])"
   ]
  },
  {
   "cell_type": "code",
   "execution_count": 96,
   "metadata": {},
   "outputs": [
    {
     "data": {
      "image/png": "[encoded data removed]",
      "text/plain": [
       "<Figure size 432x288 with 1 Axes>"
      ]
     },
     "metadata": {
      "needs_background": "light"
     },
     "output_type": "display_data"
    },
    {
     "name": "stdout",
     "output_type": "stream",
     "text": [
      "2\n"
     ]
    }
   ],
   "source": [
    "plt.imshow(images_data[23])\n",
    "plt.axis(\"off\")\n",
    "plt.show()\n",
    "print(labels[23])"
   ]
  },
  {
   "cell_type": "code",
   "execution_count": 97,
   "metadata": {},
   "outputs": [],
   "source": [
    "class SVM:\n",
    "    \n",
    "    def __init__(self,c=1):\n",
    "        self.c = c\n",
    "        self.w = 0\n",
    "        self.b = 0\n",
    "        \n",
    "    def hingeLoss(self,X,Y,w,b):\n",
    "        \n",
    "        loss = 0.0\n",
    "        loss += 0.5*np.dot(w,w.T)\n",
    "        c = self.c\n",
    "        \n",
    "        for i in range(X.shape[0]):\n",
    "            ti = Y[i]*(np.dot(w,X[i])+b)\n",
    "            loss += c*max(0,1-ti)\n",
    "            \n",
    "        return loss\n",
    "\n",
    "    def fit(self,X,Y,batch_size=32,learning_rate=0.01,max_iteration=200):\n",
    "        \n",
    "        no_of_examples = X.shape[0]\n",
    "        no_of_features = X.shape[1]\n",
    "        \n",
    "        losses = []\n",
    "        w = np.zeros((1,no_of_features))\n",
    "        b = 0\n",
    "        c = self.c\n",
    "        \n",
    "        for itr in range(max_iteration):\n",
    "            \n",
    "            loss = self.hingeLoss(X,Y,w,b)\n",
    "            losses.append(loss)\n",
    "            idx = np.arange(0,no_of_examples)\n",
    "            np.random.shuffle(idx)\n",
    "            \n",
    "            for mini_batch in range(0,no_of_examples,batch_size):\n",
    "                \n",
    "                gradew = 0\n",
    "                gradeb = 0\n",
    "                \n",
    "                for j in range(mini_batch,mini_batch+batch_size):\n",
    "                    \n",
    "                    if j<no_of_examples:\n",
    "                        \n",
    "                        i = idx[j]\n",
    "                        ti = Y[i]*(np.dot(w,X[i])+b)\n",
    "                        \n",
    "                        if ti>1:\n",
    "                            gradew += 0\n",
    "                            gradeb += 0\n",
    "                            \n",
    "                        else:\n",
    "                            gradew += c*X[i]*Y[i]\n",
    "                            gradeb += c*Y[i]\n",
    "                \n",
    "                w = w - learning_rate*w + learning_rate*gradew\n",
    "                b = b + learning_rate*gradeb\n",
    "        \n",
    "        self.b = b\n",
    "        self.w = w\n",
    "        \n",
    "        return losses"
   ]
  },
  {
   "cell_type": "code",
   "execution_count": 98,
   "metadata": {},
   "outputs": [],
   "source": [
    "classes = len(np.unique(labels))"
   ]
  },
  {
   "cell_type": "code",
   "execution_count": 99,
   "metadata": {},
   "outputs": [],
   "source": [
    "def classWiseData(x,y):\n",
    "    \n",
    "    data = {}\n",
    "    \n",
    "    ## initialise empty lists for the class labels\n",
    "    for i in range(classes):\n",
    "        data[i] = []\n",
    "    ## add the different images to the list corresponding to their label     \n",
    "    for i in range(x.shape[0]):\n",
    "        data[y[i]].append(x[i])\n",
    "    ## converts those lists to numpy arrays\n",
    "    for i in data.keys():\n",
    "        data[i] = np.array(data[i],dtype='float32')\n",
    "    \n",
    "    return data"
   ]
  },
  {
   "cell_type": "code",
   "execution_count": 100,
   "metadata": {},
   "outputs": [],
   "source": [
    "images_data = images_data.reshape((images_data.shape[0],-1))"
   ]
  },
  {
   "cell_type": "code",
   "execution_count": 101,
   "metadata": {},
   "outputs": [
    {
     "name": "stdout",
     "output_type": "stream",
     "text": [
      "(808, 7500)\n"
     ]
    }
   ],
   "source": [
    "print(images_data.shape)"
   ]
  },
  {
   "cell_type": "code",
   "execution_count": 102,
   "metadata": {},
   "outputs": [],
   "source": [
    "data = classWiseData(images_data,labels)"
   ]
  },
  {
   "cell_type": "code",
   "execution_count": 103,
   "metadata": {},
   "outputs": [
    {
     "data": {
      "text/plain": [
       "dict_keys([0, 1, 2, 3])"
      ]
     },
     "execution_count": 103,
     "metadata": {},
     "output_type": "execute_result"
    }
   ],
   "source": [
    "data.keys()"
   ]
  },
  {
   "cell_type": "code",
   "execution_count": 104,
   "metadata": {},
   "outputs": [
    {
     "name": "stdout",
     "output_type": "stream",
     "text": [
      "(202, 7500)\n",
      "(202, 7500)\n",
      "(202, 7500)\n",
      "(202, 7500)\n"
     ]
    }
   ],
   "source": [
    "print(data[0].shape)\n",
    "print(data[1].shape)\n",
    "print(data[2].shape)\n",
    "print(data[3].shape)"
   ]
  },
  {
   "cell_type": "code",
   "execution_count": 105,
   "metadata": {},
   "outputs": [],
   "source": [
    "def getDataPairforSVM(d1,d2):\n",
    "    \n",
    "    l1 = d1.shape[0]\n",
    "    l2 = d2.shape[0]\n",
    "    samples = l1+l2\n",
    "    features = d1.shape[1]\n",
    "    \n",
    "    data_pair = np.zeros((samples,features))\n",
    "    data_labels = np.zeros((samples))\n",
    "    \n",
    "    data_pair[:l1,:] = d1\n",
    "    data_pair[l1:,:] = d2\n",
    "    \n",
    "    data_labels[:l1] = -1\n",
    "    data_labels[l1:] = +1\n",
    "    \n",
    "    return data_pair,data_labels"
   ]
  },
  {
   "cell_type": "code",
   "execution_count": 106,
   "metadata": {},
   "outputs": [],
   "source": [
    "svm = SVM()\n",
    "p,l = getDataPairforSVM(data[0],data[1])"
   ]
  },
  {
   "cell_type": "code",
   "execution_count": 107,
   "metadata": {},
   "outputs": [],
   "source": [
    "def trainSVM():\n",
    "    \n",
    "    svm_classifiers = {}\n",
    "    for i in range(classes):\n",
    "        svm_classifiers[i] = {}\n",
    "        for j in range(i+1,classes):\n",
    "            x_pair,y_pair = getDataPairforSVM(data[i],data[j])\n",
    "            loss = svm.fit(x_pair,y_pair)\n",
    "            weights = svm.w\n",
    "            biases = svm.b\n",
    "            svm_classifiers[i][j] = weights,biases\n",
    "    return svm_classifiers        "
   ]
  },
  {
   "cell_type": "code",
   "execution_count": 108,
   "metadata": {},
   "outputs": [],
   "source": [
    "classifiers = trainSVM()"
   ]
  },
  {
   "cell_type": "code",
   "execution_count": 109,
   "metadata": {},
   "outputs": [
    {
     "data": {
      "text/plain": [
       "{0: {1: (array([[-0.05490041,  0.084568  ,  0.30917276, ...,  0.21209133,\n",
       "            0.18459476, -0.34435187]]), -18.62000000000005),\n",
       "  2: (array([[0.32515074, 0.35012331, 0.38702712, ..., 0.40356025, 0.42232011,\n",
       "           0.24119565]]), -8.269999999999996),\n",
       "  3: (array([[ 0.0015611 , -0.21908151, -0.14138809, ...,  0.21230428,\n",
       "            0.07916466,  0.23216418]]), 1.9300000000000006)},\n",
       " 1: {2: (array([[0.29864317, 0.18417454, 0.11515457, ..., 0.25354892, 0.32554223,\n",
       "           0.68045697]]), 12.709999999999996),\n",
       "  3: (array([[ 0.01524167, -0.31885995, -0.43184051, ..., -0.04899496,\n",
       "           -0.19488958,  0.38776551]]), 21.180000000000017)},\n",
       " 2: {3: (array([[-0.29745709, -0.52496566, -0.54782795, ..., -0.26014734,\n",
       "           -0.42055651, -0.1748348 ]]), 10.39000000000001)},\n",
       " 3: {}}"
      ]
     },
     "execution_count": 109,
     "metadata": {},
     "output_type": "execute_result"
    }
   ],
   "source": [
    "classifiers"
   ]
  },
  {
   "cell_type": "code",
   "execution_count": null,
   "metadata": {},
   "outputs": [],
   "source": []
  }
 ],
 "metadata": {
  "kernelspec": {
   "display_name": "Python 3",
   "language": "python",
   "name": "python3"
  },
  "language_info": {
   "codemirror_mode": {
    "name": "ipython",
    "version": 3
   },
   "file_extension": ".py",
   "mimetype": "text/x-python",
   "name": "python",
   "nbconvert_exporter": "python",
   "pygments_lexer": "ipython3",
   "version": "3.7.1"
  }
 },
 "nbformat": 4,
 "nbformat_minor": 2
}
